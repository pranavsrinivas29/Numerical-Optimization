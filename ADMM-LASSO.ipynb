{
 "cells": [
  {
   "cell_type": "code",
   "execution_count": 2,
   "id": "03cd5c04",
   "metadata": {},
   "outputs": [
    {
     "name": "stdout",
     "output_type": "stream",
     "text": [
      "Solution x: [[5.45925434e-05]\n",
      " [7.24362446e-06]\n",
      " [8.57143149e-01]\n",
      " [6.67816644e-05]\n",
      " [4.61156297e-05]]\n",
      "Solution z: [[0.        ]\n",
      " [0.        ]\n",
      " [0.85714315]\n",
      " [0.        ]\n",
      " [0.        ]]\n"
     ]
    }
   ],
   "source": [
    "import numpy as np\n",
    "from numpy.linalg import inv, norm\n",
    "\n",
    "def admm(A, b, rho, max_iter, tolerance):\n",
    "    n = A.shape[1]\n",
    "    m = A.shape[0]\n",
    "    \n",
    "    x = np.zeros((n, 1))\n",
    "    z = np.zeros((n, 1))\n",
    "    u = np.zeros((n, 1))\n",
    "\n",
    "    def augmented_lagrangian(x, z, u, rho):\n",
    "        return 0.5 * np.linalg.norm(A.dot(x) - b, 2)**2 + rho * np.linalg.norm(z, 1) + \\\n",
    "               0.5 * np.linalg.norm(x - z + u, 2)**2\n",
    "\n",
    "    def soft_thresholding(v, threshold):\n",
    "        return np.sign(v) * np.maximum(np.abs(v) - threshold, 0)\n",
    "\n",
    "    for k in range(max_iter):\n",
    "        x = np.linalg.inv(A.T.dot(A) + rho * np.eye(n)).dot(A.T.dot(b) + rho * (z - u))\n",
    "        z = soft_thresholding(x + u, 1/rho)\n",
    "        u = u + x - z\n",
    "\n",
    "        primal_residual = np.linalg.norm(x - z, 2)\n",
    "        dual_residual = rho * np.linalg.norm(A.dot(x - x), 2)\n",
    "\n",
    "        if primal_residual < tolerance and dual_residual < tolerance:\n",
    "            break\n",
    "\n",
    "    return x, z\n",
    "\n",
    "# Example usage\n",
    "np.random.seed(42)\n",
    "\n",
    "# Generate random data\n",
    "A = np.random.rand(10, 5)\n",
    "b = np.random.rand(10, 1)\n",
    "rho = 1.0\n",
    "max_iter = 1000\n",
    "tolerance = 1e-4\n",
    "\n",
    "# Solve the optimization problem using ADMM\n",
    "solution_x, solution_z = admm(A, b, rho, max_iter, tolerance)\n",
    "\n",
    "print(\"Solution x:\", solution_x)\n",
    "print(\"Solution z:\", solution_z)\n"
   ]
  },
  {
   "cell_type": "markdown",
   "id": "2f3f96bb",
   "metadata": {},
   "source": []
  },
  {
   "cell_type": "code",
   "execution_count": null,
   "id": "66760b5e",
   "metadata": {},
   "outputs": [],
   "source": []
  },
  {
   "cell_type": "code",
   "execution_count": null,
   "id": "feac4d4c",
   "metadata": {},
   "outputs": [],
   "source": []
  }
 ],
 "metadata": {
  "kernelspec": {
   "display_name": "Python 3 (ipykernel)",
   "language": "python",
   "name": "python3"
  },
  "language_info": {
   "codemirror_mode": {
    "name": "ipython",
    "version": 3
   },
   "file_extension": ".py",
   "mimetype": "text/x-python",
   "name": "python",
   "nbconvert_exporter": "python",
   "pygments_lexer": "ipython3",
   "version": "3.11.5"
  }
 },
 "nbformat": 4,
 "nbformat_minor": 5
}
