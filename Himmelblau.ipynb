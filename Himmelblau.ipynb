{
 "cells": [
  {
   "cell_type": "markdown",
   "id": "8fa43848",
   "metadata": {},
   "source": [
    "Optimizing the Himmelblau-Function\n",
    "In this exercise we optimize over the rosenbrock function using different levels of information about the derivative\n",
    "Implement the Himmelblau function, its exact gradient and its exact Hessian w.r.t to the standard Euclidean scalar product.\n",
    "Solve the optimization problem   using the function \\verb|minimize| $ of the module \\verb|scipy.optimize| with starting values   and  .\n",
    "without any other parameters except from   and  .\n",
    "using of the parameter jac.\n",
    "using of the parameters jac and hess and method=\"Newton-CG\"."
   ]
  },
  {
   "cell_type": "code",
   "execution_count": null,
   "id": "08678713",
   "metadata": {},
   "outputs": [],
   "source": [
    "import scipy as sp\n",
    "import scipy.optimize as opt\n",
    "import numpy as np\n",
    "from numdrv_test import test\n",
    "import matplotlib.pyplot as plt\n",
    "        \n",
    "def f(z):\n",
    "    \"\"\"Himmelblau function\n",
    "    Parameters:\n",
    "        z: nd_array, 2-D input value\n",
    "    Returns:\n",
    "        float\"\"\"\n",
    "    x,y = z\n",
    "    return (x**2 + y -11)**2 + (x + y**2 - 7)**2\n",
    "\n",
    "def df(z):\n",
    "    \"\"\"First derivative of Himmelblau function\n",
    "    Parameters:\n",
    "        z: nd_array, 2-D input value\n",
    "    Returns:\n",
    "        nd_array, 2D vector of partial derivatives\"\"\"\n",
    "    x,y = z\n",
    "    dx = 2*(2*x*(x**2 + y - 11) + x + y**2 - 7)\n",
    "    dy = 2*(2*y*(x + y**2 - 7) + x**2 + y -11)\n",
    "    return np.array([dx, dy])\n",
    "\n",
    "def Hessf(z):\n",
    "    \"\"\"Second derivative of Rosenbrock function\n",
    "    Parameters:\n",
    "        z: nd_array, 2-D input value\n",
    "    Returns:\n",
    "        nd_array of shape (2,2), matrix containing second derivatives\"\"\"\n",
    "    x,y = z\n",
    "    dxx = 4*(x**2 + y -11) + 8*x**2 + 2\n",
    "    dyx = 4*x + 4*y\n",
    "    dyy = 4*(x + y**2 - 7) + 8*y**2 + 2\n",
    "    return np.array([[dxx, dyx], [dyx, dyy]])"
   ]
  },
  {
   "cell_type": "code",
   "execution_count": null,
   "id": "93e47569",
   "metadata": {},
   "outputs": [],
   "source": [
    "class CallBack:\n",
    "    \"\"\"Call back\n",
    "    \n",
    "    Collects information aboute the iterates xk in a list \n",
    "    self.xk.\n",
    "    \"\"\"\n",
    "    def __init__(self):\n",
    "        # The Class constructor is executed when \n",
    "        # we create an new isntance by obj = CallBack().\n",
    "        # It takes no arguments.\n",
    "        self.xk=[]\n",
    "        \n",
    "    def __call__(self, xk):\n",
    "        # The means an object obj = CallBack\n",
    "        # can be executed like a function by obj().\n",
    "        self.xk.append(xk.copy())\n",
    "        return False\n",
    "    def getxk(self):\n",
    "        return np.array(self.xk)\n",
    "    \n",
    "    def plot(self, xmin=-4, xmax=4):\n",
    "        Xk = np.array(self.xk)\n",
    "        l = np.arange(xmin,xmax,.01)\n",
    "        X,Y = np.meshgrid(l,l)\n",
    "        XY = np.vstack([X.ravel(),Y.ravel()]).T\n",
    "        Z = np.array([f(xy) for xy in XY])\n",
    "        Z=Z.reshape(X.shape)\n",
    "        plt.contourf(X,Y,-Z,levels=20)\n",
    "        plt.contour(X,Y,-Z,levels=10)\n",
    "        zk = np.array([f(xk) for xk in self.xk])\n",
    "        plt.scatter(Xk[:,0], Xk[:,1], s=15)\n",
    "        plt.plot(Xk[:,0], Xk[:,1], alpha=1.)\n",
    "        plt.scatter(3,2,c=\"r\")\n",
    "        plt.show()"
   ]
  },
  {
   "cell_type": "code",
   "execution_count": null,
   "id": "c0e25c35",
   "metadata": {},
   "outputs": [],
   "source": [
    "callback_f = CallBack()\n",
    "print(opt.minimize(f, (0,0), callback=callback_f))\n",
    "callback_f.plot()"
   ]
  },
  {
   "cell_type": "code",
   "execution_count": null,
   "id": "f31ad9d3",
   "metadata": {},
   "outputs": [],
   "source": [
    "callback_df = CallBack()\n",
    "print(opt.minimize(f, (0,0), jac=df, callback=callback_df))\n",
    "callback_df.plot()"
   ]
  },
  {
   "cell_type": "code",
   "execution_count": null,
   "id": "011cc762",
   "metadata": {},
   "outputs": [],
   "source": [
    "callback_h = CallBack()\n",
    "print(opt.minimize(f, (0,0), jac=df, hess=Hessf, method=\"Newton-CG\", callback=callback_h))\n",
    "callback_h.plot()"
   ]
  },
  {
   "cell_type": "code",
   "execution_count": null,
   "id": "242a270d",
   "metadata": {},
   "outputs": [],
   "source": []
  },
  {
   "cell_type": "code",
   "execution_count": null,
   "id": "a2526b55",
   "metadata": {},
   "outputs": [],
   "source": []
  },
  {
   "cell_type": "code",
   "execution_count": null,
   "id": "206321be",
   "metadata": {},
   "outputs": [],
   "source": []
  }
 ],
 "metadata": {
  "kernelspec": {
   "display_name": "Python 3 (ipykernel)",
   "language": "python",
   "name": "python3"
  },
  "language_info": {
   "codemirror_mode": {
    "name": "ipython",
    "version": 3
   },
   "file_extension": ".py",
   "mimetype": "text/x-python",
   "name": "python",
   "nbconvert_exporter": "python",
   "pygments_lexer": "ipython3",
   "version": "3.11.5"
  }
 },
 "nbformat": 4,
 "nbformat_minor": 5
}
