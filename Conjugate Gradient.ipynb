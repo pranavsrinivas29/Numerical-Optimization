{
 "cells": [
  {
   "cell_type": "markdown",
   "id": "4df30edd",
   "metadata": {},
   "source": [
    "## CG"
   ]
  },
  {
   "cell_type": "code",
   "execution_count": 1,
   "id": "07e05063",
   "metadata": {},
   "outputs": [],
   "source": [
    "import numpy as np\n",
    "\n",
    "def cg(Q, b, x=None, tol=1e-11, \n",
    "       maxit=1000, callback=lambda x: 0):\n",
    "    # We need to change the sign, if this is supposed to solve Qx = b\n",
    "    b = -np.array(b).ravel()\n",
    "    if x is None:\n",
    "        x = np.ones_like(b)\n",
    "    else:\n",
    "        x = np.array(x).ravel()\n",
    "\n",
    "    Q = np.array(Q)\n",
    "    assert len(Q.shape) == 2\n",
    "    assert Q.shape[0] == Q.shape[1]\n",
    "    assert Q.shape[0] == len(x)\n",
    "    assert Q.shape[0] == len(b)\n",
    "\n",
    "    k = 0\n",
    "\n",
    "    r = Q.dot(x) + b\n",
    "    p = np.zeros_like(x)\n",
    "    rTr = r.dot(r)\n",
    "    beta = 0\n",
    "    \n",
    "    while (rTr > tol) and (k < maxit):\n",
    "        p = - r + beta*p\n",
    "        Qp = Q.dot(p)\n",
    "        alpha = rTr / (p.dot(Qp))\n",
    "        x = x + alpha*p\n",
    "        r_new = r + alpha*Qp\n",
    "        rTr_new = r_new.dot(r_new)\n",
    "        beta = rTr_new / rTr\n",
    "        \n",
    "        # Update the variables\n",
    "        rTr = rTr_new\n",
    "        r = r_new\n",
    "        k += 1\n",
    "        callback(x)\n",
    "    print(k)\n",
    "\n",
    "    return x"
   ]
  },
  {
   "cell_type": "code",
   "execution_count": 2,
   "id": "07311806",
   "metadata": {},
   "outputs": [],
   "source": [
    "def test_solver(solver):\n",
    "    for n in [4]:\n",
    "        A = np.random.rand(n, n)\n",
    "        A = np.array(A.T.dot(A))\n",
    "        x_orig = np.random.rand(n)\n",
    "        b = A@x_orig\n",
    "\n",
    "        x = solver(A, b)\n",
    "        assert all(np.isclose(x, x_orig))\n",
    "\n",
    "def test_cg_arange():\n",
    "    n = 300\n",
    "    b = np.array(np.arange(1, n+1))\n",
    "    Q = np.array(np.diag(b))\n",
    "    x = cg(Q, b, x=np.zeros_like(b))\n",
    "\n",
    "    assert all(np.isclose(b, Q@x))\n",
    "    assert all(np.isclose(x, np.ones_like(b)))\n",
    "    \n",
    "def test_cg_rankdeficient():\n",
    "    n = 10\n",
    "    Q = np.eye(n)*2 - np.eye(n, k=-1) - np.eye(n, k=1)\n",
    "    Q[0,0:2] = [1,-1]\n",
    "    Q[-1,-2:] = [-1,1]\n",
    "    print(Q)\n",
    "    Q /= (n-1)**2\n",
    "    unit = np.ones(n)/np.sqrt(n)\n",
    "    \n",
    "    assert all(np.isclose(Q.dot(unit), np.zeros(n)))\n",
    "\n",
    "    b = np.arange(1,n+1, dtype=float)\n",
    "    b -= unit*b.dot(unit)\n",
    "    x = cg(Q,b)\n",
    "    \n",
    "    assert(all(np.isclose(Q@x, b)))\n",
    "    \n",
    "    import matplotlib.pyplot as plt\n",
    "    plt.imshow(Q)\n",
    "    plt.show()\n",
    "    \n",
    "    print(\"b orig:\\t\", np.arange(1,n+1, dtype=float))\n",
    "    print(\"b:\\t\", b)\n",
    "    print(\"Qx:\\t\", Q@x)\n",
    "    print(x)"
   ]
  },
  {
   "cell_type": "code",
   "execution_count": 3,
   "id": "7548f9d6",
   "metadata": {},
   "outputs": [
    {
     "name": "stdout",
     "output_type": "stream",
     "text": [
      "97\n"
     ]
    }
   ],
   "source": [
    "#test_solver(cg)\n",
    "test_cg_arange()\n",
    "#test_cg_rankdeficient()"
   ]
  },
  {
   "cell_type": "code",
   "execution_count": 5,
   "id": "f5b68a7a",
   "metadata": {},
   "outputs": [
    {
     "name": "stdout",
     "output_type": "stream",
     "text": [
      "[[ 1. -1.  0.  0.  0.  0.  0.  0.  0.  0.]\n",
      " [-1.  2. -1.  0.  0.  0.  0.  0.  0.  0.]\n",
      " [ 0. -1.  2. -1.  0.  0.  0.  0.  0.  0.]\n",
      " [ 0.  0. -1.  2. -1.  0.  0.  0.  0.  0.]\n",
      " [ 0.  0.  0. -1.  2. -1.  0.  0.  0.  0.]\n",
      " [ 0.  0.  0.  0. -1.  2. -1.  0.  0.  0.]\n",
      " [ 0.  0.  0.  0.  0. -1.  2. -1.  0.  0.]\n",
      " [ 0.  0.  0.  0.  0.  0. -1.  2. -1.  0.]\n",
      " [ 0.  0.  0.  0.  0.  0.  0. -1.  2. -1.]\n",
      " [ 0.  0.  0.  0.  0.  0.  0.  0. -1.  1.]]\n",
      "5\n"
     ]
    },
    {
     "data": {
      "image/png": "[encoded data removed]",
      "text/plain": [
       "<Figure size 640x480 with 1 Axes>"
      ]
     },
     "metadata": {},
     "output_type": "display_data"
    },
    {
     "name": "stdout",
     "output_type": "stream",
     "text": [
      "b orig:\t [ 1.  2.  3.  4.  5.  6.  7.  8.  9. 10.]\n",
      "b:\t [-4.5 -3.5 -2.5 -1.5 -0.5  0.5  1.5  2.5  3.5  4.5]\n",
      "Qx:\t [-4.5 -3.5 -2.5 -1.5 -0.5  0.5  1.5  2.5  3.5  4.5]\n",
      "[-3340.25 -2975.75 -2327.75 -1477.25  -505.25   507.25  1479.25  2329.75\n",
      "  2977.75  3342.25]\n"
     ]
    }
   ],
   "source": [
    "test_cg_rankdeficient()"
   ]
  },
  {
   "cell_type": "code",
   "execution_count": null,
   "id": "de833ae2",
   "metadata": {},
   "outputs": [],
   "source": []
  }
 ],
 "metadata": {
  "kernelspec": {
   "display_name": "Python 3 (ipykernel)",
   "language": "python",
   "name": "python3"
  },
  "language_info": {
   "codemirror_mode": {
    "name": "ipython",
    "version": 3
   },
   "file_extension": ".py",
   "mimetype": "text/x-python",
   "name": "python",
   "nbconvert_exporter": "python",
   "pygments_lexer": "ipython3",
   "version": "3.11.5"
  }
 },
 "nbformat": 4,
 "nbformat_minor": 5
}
